{
 "cells": [
  {
   "attachments": {},
   "cell_type": "markdown",
   "metadata": {},
   "source": [
    "# Avaliação Intermediária"
   ]
  },
  {
   "attachments": {},
   "cell_type": "markdown",
   "metadata": {},
   "source": [
    "Esta é a A.I. de Álgebra Linear e Teoria da Informação de 1s2023.\n",
    "\n",
    "\n",
    "\n",
    "INSTRUÇÕES:\n",
    "\n",
    "1. Faça todas as questões\n",
    "1. Salve o notebook\n",
    "1. Envie o notebook salvo no Blackboard\n",
    "\n",
    "IMPORTANTE:\n",
    "\n",
    "* Você pode consultar qualquer material ou IA, mas não qualquer colega ou pessoa humana, presente ou não na prova.\n",
    "* O envio da prova será fechado às 17h45. Aqueles que não enviarem o material até este horário ficarão com zero.\n",
    "* A prova vale um total de 10 pontos. As questões 1, 2, 3 e 4 têm, respectivamente, pesos 1, 2, 3 e 4.\n",
    "* Os conceitos F, E, D, C, B, A serão mapeados para 0, 2, 4, 6, 8 e 10.\n",
    "* Para todas as questões, usaremos a rubrica que segue anexa a esta prova. Há uma rubrica para a justificativa e uma rubrica para o código. A nota da questão é a menor entre as notas da justificativa e do código.\n"
   ]
  },
  {
   "cell_type": "code",
   "execution_count": null,
   "metadata": {},
   "outputs": [],
   "source": [
    "import numpy as np"
   ]
  },
  {
   "attachments": {},
   "cell_type": "markdown",
   "metadata": {},
   "source": [
    "## Exercício 1\n",
    "\n",
    "* Peso: 1 ponto\n",
    "\n",
    "Dadas as matrizes:\n",
    "\n",
    "$$\n",
    "A = \\begin{bmatrix} 1 & 3 &\\\\ 2 & 1 \\end{bmatrix} \\\\\n",
    "\n",
    "B = \\begin{bmatrix} 2 & 3\\\\ 5 & 8 \\end{bmatrix} \\\\\n",
    "\n",
    "C = AB \\\\\n",
    "\n",
    "D = BA \n",
    "$$\n",
    "\n",
    "calcule:\n",
    "\n",
    "$X = (ABC^{-1}BAD^{-1})^T \\odot A$\n",
    "\n"
   ]
  },
  {
   "cell_type": "markdown",
   "metadata": {},
   "source": []
  },
  {
   "cell_type": "code",
   "execution_count": null,
   "metadata": {},
   "outputs": [],
   "source": []
  },
  {
   "attachments": {},
   "cell_type": "markdown",
   "metadata": {},
   "source": [
    "# Exercício 2\n",
    "\n",
    "* Peso: 2 pontos\n",
    "\n",
    "Tenho uma matriz $X$ que contém todas as posições $(i,j)$ de pixels de uma figura de 600x600 pixels, sendo cada pixel armazenado em uma coluna e cada dimensão armazenada em uma linha. Qual é a matriz que permite encolher essa figura de forma que cada uma de suas dimensões seja reduzida pela metade, mas seu centro seja preservado? Se precisar, use coordenadas homogêneas!\n",
    "\n",
    "________________________________________________________________________________________________________"
   ]
  },
  {
   "cell_type": "markdown",
   "metadata": {},
   "source": []
  },
  {
   "cell_type": "code",
   "execution_count": null,
   "metadata": {},
   "outputs": [],
   "source": []
  },
  {
   "attachments": {},
   "cell_type": "markdown",
   "metadata": {},
   "source": [
    "# Exercício 3\n",
    "\n",
    "* Peso: 3 pontos\n",
    "\n",
    "Algumas carteiras de investimento deram os seguintes retornos:\n",
    "\n",
    "* 100 ações da empresa E1 e 200 ações da E2 deram retorno de R$100,00,\n",
    "* 1000 ações da empresa E1 e 2000 ações da E2 deram retorno de R$1000,00,\n",
    "* 200 ações da empresa E2 e 300 da E3 deram retorno de R$500,00 \n",
    "* 400 ações da empresa E2 e 600 da E3 deram retorno de R$1000,00 \n",
    "* 1000 ações da empresa E1 e 100 da E3 deram retorno de R$1500,00\n",
    "* 2000 ações da empresa E1 e 200 da E3 deram retorno de R$3000,00 \n",
    "\n",
    "*Usando estritamente formulações matriciais*, responda:\n",
    "1. Qual é o retorno por ação de cada empresa?\n",
    "1. Qual é o retorno de uma carteira com 100 ações da empresa E1, 200 da empresa E2 e 300 da E3?\n",
    "\n",
    "________________________________________________________________________________________________________"
   ]
  },
  {
   "attachments": {},
   "cell_type": "markdown",
   "metadata": {},
   "source": []
  },
  {
   "cell_type": "code",
   "execution_count": null,
   "metadata": {},
   "outputs": [],
   "source": []
  },
  {
   "attachments": {},
   "cell_type": "markdown",
   "metadata": {},
   "source": [
    "# Exercício 4\n",
    "\n",
    "* Peso: 4 pontos\n",
    "\n",
    "Uma maneira de fazer transformações em imagens é usar pontos de referência. Por exemplo, podemos definir pontos de referência em um rosto como o centro de cada um dos olhos, a ponta do nariz e o ponto inferior do queixo. Daí então, encontramos onde esses pontos estão na imagem de origem, e escolhemos (como quisermos) onde os pontos estão na imagem de destino. Encontramos a transformação linear que realiza esse mapeamento, e então aplicamos essa mesma transformação para todos os pontos da imagem, isto é:\n",
    "\n",
    "$$\n",
    "Xd = T X,\n",
    "$$\n",
    "\n",
    "onde $Xd$ é uma matriz com pontos na imagem de destino, $X$ é uma matriz com pontos na imagem de origem, e $T$ é uma transformação linear.\n",
    "\n",
    "Num rosto, em uma imagem que está mapeada no plano cartesiano (isto é, no plano usual $x,y$ e não numa matriz de pixels), encontramos:\n",
    "\n",
    "* O olho esquerdo em $(-2, 3)$,\n",
    "* o olho direito em $(2, 3)$\n",
    "* A ponta do nariz em $(0,0)$\n",
    "* O ponto inferior do queixo em $(0, -3)$\n",
    "\n",
    "O rosto foi mapeado usando uma transformação linear de forma que os pontos de referência foram deslocados para:\n",
    "\n",
    "* O olho esquerdo em $(-6, 2)$,\n",
    "* o olho direito em $(6, 1)$\n",
    "* A ponta do nariz em $(3, 0)$\n",
    "\n",
    "Usando formulações matriciais, responda: qual é a distância entre o ponto inferior do queixo e a ponta do nariz no novo mapeamento?\n",
    "\n",
    "\n",
    "________________________________________________________________________________________________________"
   ]
  },
  {
   "attachments": {},
   "cell_type": "markdown",
   "metadata": {},
   "source": []
  },
  {
   "cell_type": "code",
   "execution_count": null,
   "metadata": {},
   "outputs": [],
   "source": []
  }
 ],
 "metadata": {
  "kernelspec": {
   "display_name": "base",
   "language": "python",
   "name": "python3"
  },
  "language_info": {
   "codemirror_mode": {
    "name": "ipython",
    "version": 3
   },
   "file_extension": ".py",
   "mimetype": "text/x-python",
   "name": "python",
   "nbconvert_exporter": "python",
   "pygments_lexer": "ipython3",
   "version": "3.10.2"
  },
  "orig_nbformat": 4
 },
 "nbformat": 4,
 "nbformat_minor": 2
}
