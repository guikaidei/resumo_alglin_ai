{
 "cells": [
  {
   "attachments": {},
   "cell_type": "markdown",
   "metadata": {},
   "source": [
    "# Avaliação Intermediária"
   ]
  },
  {
   "attachments": {},
   "cell_type": "markdown",
   "metadata": {},
   "source": [
    "Esta é a A.I. de Álgebra Linear e Teoria da Informação de 1s2023.\n",
    "\n",
    "\n",
    "\n",
    "INSTRUÇÕES:\n",
    "\n",
    "1. Faça todas as questões\n",
    "1. Salve o notebook\n",
    "1. Envie o notebook salvo no Blackboard\n",
    "\n",
    "IMPORTANTE:\n",
    "\n",
    "* Você pode consultar qualquer material ou IA, mas não qualquer colega ou pessoa humana, presente ou não na prova.\n",
    "* O envio da prova será fechado às 17h45. Aqueles que não enviarem o material até este horário ficarão com zero.\n",
    "* A prova vale um total de 10 pontos. As questões 1, 2, 3 e 4 têm, respectivamente, pesos 1, 2, 3 e 4.\n",
    "* Os conceitos F, E, D, C, B, A serão mapeados para 0, 2, 4, 6, 8 e 10.\n",
    "* Para todas as questões, usaremos a rubrica que segue anexa a esta prova. Há uma rubrica para a justificativa e uma rubrica para o código. A nota da questão é a menor entre as notas da justificativa e do código.\n"
   ]
  },
  {
   "cell_type": "code",
   "execution_count": 9,
   "metadata": {},
   "outputs": [],
   "source": [
    "import numpy as np"
   ]
  },
  {
   "attachments": {},
   "cell_type": "markdown",
   "metadata": {},
   "source": [
    "## Exercício 1\n",
    "\n",
    "* Peso: 1 ponto\n",
    "\n",
    "Dadas as matrizes:\n",
    "\n",
    "$$\n",
    "A = \\begin{bmatrix} 1 & 3 &\\\\ 2 & 1 \\end{bmatrix} \\\\\n",
    "\n",
    "B = \\begin{bmatrix} 2 & 3\\\\ 5 & 8 \\end{bmatrix} \\\\\n",
    "\n",
    "C = AB \\\\\n",
    "\n",
    "D = BA \n",
    "$$\n",
    "\n",
    "calcule:\n",
    "\n",
    "$X = (ABC^{-1}BAD^{-1})^T \\odot A$\n",
    "\n"
   ]
  },
  {
   "cell_type": "code",
   "execution_count": 10,
   "metadata": {},
   "outputs": [
    {
     "data": {
      "text/plain": [
       "array([[1.00000000e+00, 1.33226763e-14],\n",
       "       [1.19015908e-14, 1.00000000e+00]])"
      ]
     },
     "execution_count": 10,
     "metadata": {},
     "output_type": "execute_result"
    }
   ],
   "source": [
    "A = np.array([[1, 3], [2, 1]])\n",
    "B = np.array([[2, 3], [5, 8]])\n",
    "\n",
    "C = A @ B\n",
    "D = B @ A\n",
    "\n",
    "X = (A @ B @ np.linalg.inv(C) @ B @ A @ np.linalg.inv(D)).T * A\n",
    "\n",
    "X"
   ]
  },
  {
   "attachments": {},
   "cell_type": "markdown",
   "metadata": {},
   "source": [
    "# Exercício 2\n",
    "\n",
    "* Peso: 2 pontos\n",
    "\n",
    "Tenho uma matriz $X$ que contém todas as posições $(i,j)$ de pixels de uma figura de 600x600 pixels, sendo cada pixel armazenado em uma coluna e cada dimensão armazenada em uma linha. Qual é a matriz que permite encolher essa figura de forma que cada uma de suas dimensões seja reduzida pela metade, mas seu centro seja preservado? Se precisar, use coordenadas homogêneas!\n",
    "\n",
    "________________________________________________________________________________________________________"
   ]
  },
  {
   "cell_type": "markdown",
   "metadata": {},
   "source": [
    "$$\n",
    "translacao para ponto (0,0) = \n",
    "\\begin{bmatrix}\n",
    "    1 & 0 & -300 \\\\\n",
    "    0 & 1 & -300 \\\\\n",
    "    0 & 0 & 1\n",
    "\\end{bmatrix}\n",
    "$$\n",
    "\n",
    "\n",
    "$$\n",
    "compressaometade = \n",
    "\\begin{bmatrix}\n",
    "    0.5 & 0 & 0 \\\\\n",
    "    0 & 0.5 & 0 \\\\\n",
    "    0 & 0 & 1\n",
    "\\end{bmatrix}\n",
    "$$\n",
    "\n",
    "$$\n",
    "translacao para ponto original = \n",
    "\\begin{bmatrix}\n",
    "    1 & 0 & 300 \\\\\n",
    "    0 & 1 & 300 \\\\\n",
    "    0 & 0 & 1\n",
    "\\end{bmatrix}\n",
    "$$"
   ]
  },
  {
   "cell_type": "code",
   "execution_count": 11,
   "metadata": {},
   "outputs": [
    {
     "data": {
      "text/plain": [
       "array([[  0.5,   0. , 150. ],\n",
       "       [  0. ,   0.5, 150. ],\n",
       "       [  0. ,   0. ,   1. ]])"
      ]
     },
     "execution_count": 11,
     "metadata": {},
     "output_type": "execute_result"
    }
   ],
   "source": [
    "translacao_1 = np.array([[1, 0, -300], [0, 1, -300], [0, 0, 1]])\n",
    "\n",
    "compressao = np.array([[0.5, 0, 0], [0, 0.5, 0], [0, 0, 1]])\n",
    "\n",
    "translacao_2 = np.array([[1, 0, 300], [0, 1, 300], [0, 0, 1]])\n",
    "\n",
    "M = translacao_2 @ compressao @ translacao_1\n",
    "\n",
    "M"
   ]
  },
  {
   "attachments": {},
   "cell_type": "markdown",
   "metadata": {},
   "source": [
    "# Exercício 3\n",
    "\n",
    "* Peso: 3 pontos\n",
    "\n",
    "Algumas carteiras de investimento deram os seguintes retornos:\n",
    "\n",
    "* 100 ações da empresa E1 e 200 ações da E2 deram retorno de R$100,00,\n",
    "* 1000 ações da empresa E1 e 2000 ações da E2 deram retorno de R$1000,00,\n",
    "* 200 ações da empresa E2 e 300 da E3 deram retorno de R$500,00 \n",
    "* 400 ações da empresa E2 e 600 da E3 deram retorno de R$1000,00 \n",
    "* 1000 ações da empresa E1 e 100 da E3 deram retorno de R$1500,00\n",
    "* 2000 ações da empresa E1 e 200 da E3 deram retorno de R$3000,00 \n",
    "\n",
    "*Usando estritamente formulações matriciais*, responda:\n",
    "1. Qual é o retorno por ação de cada empresa?\n",
    "1. Qual é o retorno de uma carteira com 100 ações da empresa E1, 200 da empresa E2 e 300 da E3?\n",
    "\n",
    "________________________________________________________________________________________________________"
   ]
  },
  {
   "attachments": {},
   "cell_type": "markdown",
   "metadata": {},
   "source": [
    "1 e 2, 3 e 4, 5 e 6, essas duplas sao carteiras que possuem mesmas acoes apenas em quantidades diferentes, ou seja, possuem a mesma informacao.\n",
    "Por isso considerarei apenas as carteiras 1, 3 e 5"
   ]
  },
  {
   "cell_type": "code",
   "execution_count": 15,
   "metadata": {},
   "outputs": [],
   "source": [
    "c1 = np.array([100, 200, 0])\n",
    "c2 = np.array([0, 200, 300])\n",
    "c3 = np.array([1000, 0, 100])\n",
    "\n",
    "c = np.vstack((c1, c2, c3))\n",
    "\n",
    "r = np.array([[100], [500], [1500]])"
   ]
  },
  {
   "cell_type": "markdown",
   "metadata": {},
   "source": [
    "c: carteiras\n",
    "x: matriz_retornos_por_acao\n",
    "r: retornos_totais\n",
    "\n",
    "$$cx = r$$\n",
    "$$c^{-1}cx = c^{-1}r$$\n",
    "$$x = c^{-1}r$$\n"
   ]
  },
  {
   "cell_type": "code",
   "execution_count": 16,
   "metadata": {},
   "outputs": [
    {
     "data": {
      "text/plain": [
       "array([[ 1.32258065],\n",
       "       [-0.16129032],\n",
       "       [ 1.77419355]])"
      ]
     },
     "execution_count": 16,
     "metadata": {},
     "output_type": "execute_result"
    }
   ],
   "source": [
    "X = np.linalg.inv(c) @ r\n",
    "X"
   ]
  },
  {
   "cell_type": "markdown",
   "metadata": {},
   "source": [
    "1. O retorno da acao E1 é de 1.32258065 vezes o seu valor, da E2 é de -0.16129032 e da E3 de 1.77419355."
   ]
  },
  {
   "cell_type": "code",
   "execution_count": 17,
   "metadata": {},
   "outputs": [
    {
     "data": {
      "text/plain": [
       "array([632.25806452])"
      ]
     },
     "execution_count": 17,
     "metadata": {},
     "output_type": "execute_result"
    }
   ],
   "source": [
    "c_nova = np.array([100, 200, 300])\n",
    "retorno_total = c_nova @ X\n",
    "retorno_total"
   ]
  },
  {
   "cell_type": "markdown",
   "metadata": {},
   "source": [
    "632.25806452 reais"
   ]
  },
  {
   "attachments": {},
   "cell_type": "markdown",
   "metadata": {},
   "source": [
    "# Exercício 4\n",
    "\n",
    "* Peso: 4 pontos\n",
    "\n",
    "Uma maneira de fazer transformações em imagens é usar pontos de referência. Por exemplo, podemos definir pontos de referência em um rosto como o centro de cada um dos olhos, a ponta do nariz e o ponto inferior do queixo. Daí então, encontramos onde esses pontos estão na imagem de origem, e escolhemos (como quisermos) onde os pontos estão na imagem de destino. Encontramos a transformação linear que realiza esse mapeamento, e então aplicamos essa mesma transformação para todos os pontos da imagem, isto é:\n",
    "\n",
    "$$\n",
    "Xd = T X,\n",
    "$$\n",
    "\n",
    "onde $Xd$ é uma matriz com pontos na imagem de destino, $X$ é uma matriz com pontos na imagem de origem, e $T$ é uma transformação linear.\n",
    "\n",
    "Num rosto, em uma imagem que está mapeada no plano cartesiano (isto é, no plano usual $x,y$ e não numa matriz de pixels), encontramos:\n",
    "\n",
    "* O olho esquerdo em $(-2, 3)$,\n",
    "* o olho direito em $(2, 3)$\n",
    "* A ponta do nariz em $(0,0)$\n",
    "* O ponto inferior do queixo em $(0, -3)$\n",
    "\n",
    "O rosto foi mapeado usando uma transformação linear de forma que os pontos de referência foram deslocados para:\n",
    "\n",
    "* O olho esquerdo em $(-6, 2)$,\n",
    "* o olho direito em $(6, 1)$\n",
    "* A ponta do nariz em $(3, 0)$\n",
    "\n",
    "Usando formulações matriciais, responda: qual é a distância entre o ponto inferior do queixo e a ponta do nariz no novo mapeamento?\n",
    "\n",
    "\n",
    "________________________________________________________________________________________________________"
   ]
  },
  {
   "attachments": {},
   "cell_type": "markdown",
   "metadata": {},
   "source": [
    "Primeiro precisamos encontrar a matriz que faz as seguintes transformacoes:\n",
    "\n",
    "* $[-2, 3] \\rightarrow [-6, 2]$\n",
    "* $[2, 3] \\rightarrow [6, 1]$\n",
    "* $[0, 0] \\rightarrow [3, 0]$\n",
    "\n",
    "Para levar o ponto (0, -3) para seu destino e em seguida calcular a distancia entre esse novo ponto e (3, 0)\n",
    "\n"
   ]
  },
  {
   "cell_type": "code",
   "execution_count": 19,
   "metadata": {},
   "outputs": [
    {
     "data": {
      "text/plain": [
       "array([[ 4.00000000e-01,  8.00000000e-01, -1.20000000e+00],\n",
       "       [ 2.00000000e-01,  2.40000000e+00, -6.00000000e-01],\n",
       "       [-1.38777878e-17, -2.22044605e-16,  1.00000000e+00]])"
      ]
     },
     "execution_count": 19,
     "metadata": {},
     "output_type": "execute_result"
    }
   ],
   "source": [
    "v1 = np.array([-2, 3])\n",
    "v2 = np.array([2, 3])\n",
    "v3 = np.array([0, 0])\n",
    "\n",
    "v = np.vstack([v1, v2, v3]).T\n",
    "v = np.vstack((v, np.ones(v.shape[1])))\n",
    "\n",
    "w1 = np.array([-6, 2])\n",
    "w2 = np.array([6, 1])\n",
    "w3 = np.array([3, 0])\n",
    "\n",
    "w = np.vstack([w1, w2, w3]).T\n",
    "w = np.vstack((w, np.ones(w.shape[1])))\n",
    "\n",
    "B = v @ np.linalg.inv(w)\n",
    "\n",
    "B"
   ]
  },
  {
   "cell_type": "code",
   "execution_count": 21,
   "metadata": {},
   "outputs": [
    {
     "data": {
      "text/plain": [
       "array([[ 6. ],\n",
       "       [-1.5],\n",
       "       [ 1. ]])"
      ]
     },
     "execution_count": 21,
     "metadata": {},
     "output_type": "execute_result"
    }
   ],
   "source": [
    "ponto_queixo = np.array([[0], [-3], [1]])\n",
    "ponto_novo_queixo = np.linalg.inv(B) @ ponto_queixo\n",
    "\n",
    "ponto_novo_queixo"
   ]
  },
  {
   "cell_type": "markdown",
   "metadata": {},
   "source": [
    "O ponto destino do queixo sera (6, -1.5), agora calculamos a distancia entre ele e (3, 0)"
   ]
  },
  {
   "cell_type": "code",
   "execution_count": 24,
   "metadata": {},
   "outputs": [
    {
     "data": {
      "text/plain": [
       "3.3541019662496847"
      ]
     },
     "execution_count": 24,
     "metadata": {},
     "output_type": "execute_result"
    }
   ],
   "source": [
    "distancia_2 = ((6 - 3) ** 2) + ((-1.5 - 0) ** 2)\n",
    "distancia = distancia_2 ** 0.5\n",
    "distancia"
   ]
  }
 ],
 "metadata": {
  "kernelspec": {
   "display_name": "base",
   "language": "python",
   "name": "python3"
  },
  "language_info": {
   "codemirror_mode": {
    "name": "ipython",
    "version": 3
   },
   "file_extension": ".py",
   "mimetype": "text/x-python",
   "name": "python",
   "nbconvert_exporter": "python",
   "pygments_lexer": "ipython3",
   "version": "3.10.0"
  },
  "orig_nbformat": 4
 },
 "nbformat": 4,
 "nbformat_minor": 2
}
