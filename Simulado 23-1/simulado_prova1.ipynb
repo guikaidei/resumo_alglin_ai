{
 "cells": [
  {
   "cell_type": "code",
   "execution_count": 17,
   "metadata": {},
   "outputs": [],
   "source": [
    "import numpy as np\n",
    "import matplotlib.pyplot as plt\n",
    "import matplotlib.image as mpimg\n",
    "import pandas as pd\n",
    "import math as math"
   ]
  },
  {
   "attachments": {},
   "cell_type": "markdown",
   "metadata": {},
   "source": [
    "# Simulado para a prova"
   ]
  },
  {
   "attachments": {},
   "cell_type": "markdown",
   "metadata": {},
   "source": [
    "## Exercício 1\n",
    "\n",
    "Dadas as matrizes:\n",
    "\n",
    "$$\n",
    "A = \\begin{bmatrix} 0 & 1\\\\ 2 & 3 \\end{bmatrix} \\\\\n",
    "\n",
    "B = \\begin{bmatrix} 7 & 9\\\\ 23 & -1 \\end{bmatrix}\n",
    "$$\n",
    "\n",
    "calcule:\n",
    "\n",
    "1. $AB$\n",
    "1. $BA$\n",
    "1. $A \\odot B$\n",
    "1. $A^TB$\n",
    "1. $AB^{-1}$\n",
    "\n",
    "$(AB)^T = B^T A^T$\n"
   ]
  },
  {
   "cell_type": "code",
   "execution_count": 2,
   "metadata": {},
   "outputs": [],
   "source": [
    "A = np.array([[0, 1], [2, 3]])\n",
    "B = np.array([[7, 9], [23, -1]])"
   ]
  },
  {
   "cell_type": "code",
   "execution_count": 4,
   "metadata": {},
   "outputs": [
    {
     "data": {
      "text/plain": [
       "(array([[23, -1],\n",
       "        [83, 15]]),\n",
       " array([[18, 34],\n",
       "        [-2, 20]]),\n",
       " array([[ 0,  9],\n",
       "        [46, -3]]),\n",
       " array([[46, -2],\n",
       "        [76,  6]]),\n",
       " array([[ 0.10747664, -0.03271028],\n",
       "        [ 0.3317757 , -0.01401869]]))"
      ]
     },
     "execution_count": 4,
     "metadata": {},
     "output_type": "execute_result"
    }
   ],
   "source": [
    "p1 = A @ B\n",
    "p2 = B @ A \n",
    "p3 = A * B \n",
    "p4 = A.T @ B\n",
    "p5 = A @ np.linalg.inv(B)\n",
    "\n",
    "p1, p2, p3 ,p4, p5"
   ]
  },
  {
   "attachments": {},
   "cell_type": "markdown",
   "metadata": {},
   "source": [
    "# Exercício 2\n",
    "\n",
    "Eu tenho uma núvem de pontos que está em um quadrado cujo centro é o ponto $(-2,3)$. Qual é a matriz que transforma essa núvem de pontos em uma núvem semelhante, rotacionada de 30 graus no sentido anti-horário, centrada em $(5,5)$? Se precisar, use coordenadas homogêneas!"
   ]
  },
  {
   "attachments": {},
   "cell_type": "markdown",
   "metadata": {},
   "source": [
    "$$\n",
    "R = \n",
    "\\begin{bmatrix}\n",
    "    \\cos(\\theta) & -\\sin(\\theta) & 0 \\\\\n",
    "    \\sin(\\theta) & \\cos(\\theta) & 0 \\\\\n",
    "    0 & 0 & 1\n",
    "\\end{bmatrix}\n",
    "$$\n",
    "\n",
    "$$\n",
    "T = \n",
    "\\begin{bmatrix}\n",
    "    1 & 0 & \\Delta x \\\\\n",
    "    0 & 1 & \\Delta y \\\\\n",
    "    0 & 0 & 1\n",
    "\\end{bmatrix}\n",
    "$$"
   ]
  },
  {
   "cell_type": "code",
   "execution_count": 24,
   "metadata": {},
   "outputs": [
    {
     "data": {
      "image/png": "[encoded data removed]",
      "text/plain": [
       "<Figure size 640x480 with 1 Axes>"
      ]
     },
     "metadata": {},
     "output_type": "display_data"
    }
   ],
   "source": [
    "x = np.random.uniform(-1, 1, size=(2, 600))\n",
    "x = np.vstack((x, np.ones(600)))\n",
    "\n",
    "# Matriz q translada o quadrado ate o ponto(-2, 3)\n",
    "leva_para_ponto_inicial = np.array([[1, 0, -2], [0, 1, 3], [0, 0, 1]])\n",
    "\n",
    "x = leva_para_ponto_inicial @ x\n",
    "\n",
    "# Matriz que rotaciona 30 graus\n",
    "rotaciona_30 = np.array([[math.cos(math.radians(30)), -math.sin(math.radians(30)), 0], [math.sin(math.radians(30)), math.cos(math.radians(30)), 0], [0, 0, 1]])\n",
    "\n",
    "# Matriz que leva o quadrado ate o ponto (5, 5)\n",
    "leva_para_ponto_final = np.array([[1, 0, 5], [0, 1, 5], [0, 0, 1]])\n",
    "\n",
    "# Matriz que leva o quadrado ate o ponto (0, 0)\n",
    "leva_para_0 = np.array([[1, 0, 2], [0, 1, -3], [0, 0, 1]])\n",
    "\n",
    "# A matriz x eh levada para (0,0), rotacionada, e levada para (5,5)\n",
    "y = leva_para_ponto_final @ rotaciona_30 @ leva_para_0 @ x\n",
    "\n",
    "plt.figure()\n",
    "plt.scatter(x[0,:], x[1,:], s=1, c='r')\n",
    "plt.scatter(y[0,:], y[1,:], s=1, c='b')\n",
    "plt.xlim([-10, 10])\n",
    "plt.ylim([-10, 10])\n",
    "plt.grid()\n",
    "plt.show()"
   ]
  },
  {
   "attachments": {},
   "cell_type": "markdown",
   "metadata": {},
   "source": [
    "# Exercício 3\n",
    "\n",
    "Quatro amigos foram a uma lanchonete, e fizeram os seguintes pedidos:\n",
    "\n",
    "* 1 x-salada e 1 suco de laranja, no total de R$10,00,\n",
    "* 2 x-salada e 2 suco de laranja, no total de R$20,00,\n",
    "* 2 x-salada e 1 suco de laranja, no total de R$13,00,\n",
    "* 4 x-salada e 2 suco de laranja, no total de R$26,00.\n",
    "\n",
    "\n",
    "1. Qual é o preço do x-salada?\n",
    "1. Qual é o preço do suco de laranja?\n",
    "1. Qual é o valor de uma compra de 1 x-salada e 2 sucos de laranja?\n"
   ]
  },
  {
   "cell_type": "code",
   "execution_count": 25,
   "metadata": {},
   "outputs": [],
   "source": [
    "p1 = np.array([1, 1])\n",
    "p3 = np.array([2, 1])\n",
    "\n",
    "p = np.vstack((p1, p3))\n",
    "\n",
    "t = np.array([[10], [13]])"
   ]
  },
  {
   "cell_type": "markdown",
   "metadata": {},
   "source": [
    "p @ x = t\n",
    "x = t @ p-1"
   ]
  },
  {
   "cell_type": "code",
   "execution_count": 26,
   "metadata": {},
   "outputs": [
    {
     "data": {
      "text/plain": [
       "array([[3.],\n",
       "       [7.]])"
      ]
     },
     "execution_count": 26,
     "metadata": {},
     "output_type": "execute_result"
    }
   ],
   "source": [
    "x = np.linalg.inv(p) @ t\n",
    "x"
   ]
  },
  {
   "cell_type": "code",
   "execution_count": 27,
   "metadata": {},
   "outputs": [
    {
     "data": {
      "text/plain": [
       "array([17.])"
      ]
     },
     "execution_count": 27,
     "metadata": {},
     "output_type": "execute_result"
    }
   ],
   "source": [
    "r = np.array([1, 2]) @ x\n",
    "r"
   ]
  },
  {
   "attachments": {},
   "cell_type": "markdown",
   "metadata": {},
   "source": [
    "# Exercício 4\n",
    "\n",
    "Cada real investido na empresa E1 deu um retorno de 50 centavos ao fim de um ano. Cada real investido na empresa E2 deu um retorno de 10 centavos ao fim de um ano. Uma corretora propôs duas carteiras: C1, em que cada real é dividido igualmente entre as empresas E1 e E2, e C2, que tem 75% de aplicação na empresa E1 e 25% na empresa E2.\n",
    "\n",
    "1. Se um investidor tem 5000 reais investidos na carteira C1 e 1000 na carteira C2, qual é o seu investimento nas empresas E1 e E2?\n",
    "1. Se um investidor tem 2000 reais investidos diretamente na empresa E1, e 2000 reais na empresa E2, qual seria o investimento nas carteiras C1 e C2 equivalente?\n",
    "1. Qual é a matriz que permite transformar investimentos nas empresas E1 e E2 em investimentos nas carteiras C1 e C2?"
   ]
  },
  {
   "attachments": {},
   "cell_type": "markdown",
   "metadata": {},
   "source": [
    "$$\n",
    "E_1 = 0.5 C_1 + 0.75 C_2 \\\\\n",
    "E_2 = 0.5 C_1 + 0.25 C_2 \n",
    "$$\n",
    "\n",
    "$$\n",
    "E = \\begin{bmatrix} 0.5 & 0.75 \\\\ 0.5 & 0.25 \\end{bmatrix} C\n",
    "$$"
   ]
  },
  {
   "cell_type": "code",
   "execution_count": 28,
   "metadata": {},
   "outputs": [
    {
     "data": {
      "text/plain": [
       "array([[3250.],\n",
       "       [2750.]])"
      ]
     },
     "execution_count": 28,
     "metadata": {},
     "output_type": "execute_result"
    }
   ],
   "source": [
    "C = np.array([[0.5, 0.5], [0.75, 0.25]]).T\n",
    "I = ([[5000], [1000]])\n",
    "C @ I"
   ]
  },
  {
   "cell_type": "code",
   "execution_count": 29,
   "metadata": {},
   "outputs": [
    {
     "data": {
      "text/plain": [
       "array([[4000.],\n",
       "       [   0.]])"
      ]
     },
     "execution_count": 29,
     "metadata": {},
     "output_type": "execute_result"
    }
   ],
   "source": [
    "R = np.array([[2000], [2000]])\n",
    "\n",
    "np.linalg.inv(C) @ R"
   ]
  },
  {
   "cell_type": "code",
   "execution_count": 30,
   "metadata": {},
   "outputs": [
    {
     "data": {
      "text/plain": [
       "array([[-1.,  3.],\n",
       "       [ 2., -2.]])"
      ]
     },
     "execution_count": 30,
     "metadata": {},
     "output_type": "execute_result"
    }
   ],
   "source": [
    "np.linalg.inv(C)"
   ]
  },
  {
   "attachments": {},
   "cell_type": "markdown",
   "metadata": {},
   "source": [
    "# Exercício 5\n",
    "\n",
    "Escreva o vetor $x$ tal que:\n",
    "\n",
    "$$\n",
    "\\begin{bmatrix} -5 \\\\ 3 \\end{bmatrix} = \\begin{bmatrix} 0 & 1\\\\ 2 & 3 \\end{bmatrix} x\n",
    "$$"
   ]
  },
  {
   "cell_type": "code",
   "execution_count": 31,
   "metadata": {},
   "outputs": [
    {
     "data": {
      "text/plain": [
       "array([[ 9.],\n",
       "       [-5.]])"
      ]
     },
     "execution_count": 31,
     "metadata": {},
     "output_type": "execute_result"
    }
   ],
   "source": [
    "A = np.array([[-5], [3]])\n",
    "B = np.array([[0, 1], [2, 3]])\n",
    "\n",
    "np.linalg.inv(B) @ A"
   ]
  },
  {
   "attachments": {},
   "cell_type": "markdown",
   "metadata": {},
   "source": [
    "# Exercício 6\n",
    "\n",
    "\n",
    "Olhando uma foto do mapa em satélite da região próxima à Vila Olímpia, vemos a seguinte situação:\n",
    "\n",
    "* O Insper, que está na latitude/longitude `[-23.59857192474643, -46.67653800340679]`, está no pixel `(400, 100)`.\n",
    "* A escola Móbile, originalmente em `[-23.598451299397993, -46.66985259860919]`, está no pixel `(400, 200)`.\n",
    "* O cachorródromo do parque Ibirapuera, que fica em `[-23.59247353738838, -46.66154847926121]`, está no pixel `(200, 400)`\n",
    "\n",
    "Em que pixel deve aparecer o Burguer King, que fica na esquina da Avenida Santo Amaro com a Hélio Pelegrino, na latitude/longitude `[-23.597723757411057, -46.67377935273308]`?"
   ]
  },
  {
   "cell_type": "code",
   "execution_count": 32,
   "metadata": {},
   "outputs": [
    {
     "data": {
      "text/plain": [
       "array([[-2.86825566e-05,  1.20625348e-06, -2.35872195e+01],\n",
       "       [ 2.53334512e-05,  6.68540480e-05, -4.66933568e+01],\n",
       "       [ 0.00000000e+00,  4.16333634e-19,  1.00000000e+00]])"
      ]
     },
     "execution_count": 32,
     "metadata": {},
     "output_type": "execute_result"
    }
   ],
   "source": [
    "v1 = np.array([-23.59857192474643, -46.67653800340679])\n",
    "v2 = np.array([-23.598451299397993, -46.66985259860919])\n",
    "v3 = np.array([-23.59247353738838, -46.66154847926121])\n",
    "\n",
    "v = np.vstack([v1, v2, v3]).T\n",
    "v = np.vstack((v, np.ones(v.shape[1])))\n",
    "\n",
    "w1 = np.array([400, 100])\n",
    "w2 = np.array([400, 200])\n",
    "w3 = np.array([200, 400])\n",
    "\n",
    "w = np.vstack([w1, w2, w3]).T\n",
    "w = np.vstack((w, np.ones(w.shape[1])))\n",
    "\n",
    "B = v @ np.linalg.inv(w)\n",
    "\n",
    "B"
   ]
  },
  {
   "cell_type": "code",
   "execution_count": 33,
   "metadata": {},
   "outputs": [
    {
     "data": {
      "text/plain": [
       "array([[372.6011551 ],\n",
       "       [151.64620662],\n",
       "       [  1.        ]])"
      ]
     },
     "execution_count": 33,
     "metadata": {},
     "output_type": "execute_result"
    }
   ],
   "source": [
    "bk = np.array([[-23.597723757411057], [-46.67377935273308], [1]])\n",
    "\n",
    "new_bk = np.linalg.inv(B) @ bk\n",
    "\n",
    "new_bk"
   ]
  }
 ],
 "metadata": {
  "kernelspec": {
   "display_name": "base",
   "language": "python",
   "name": "python3"
  },
  "language_info": {
   "codemirror_mode": {
    "name": "ipython",
    "version": 3
   },
   "file_extension": ".py",
   "mimetype": "text/x-python",
   "name": "python",
   "nbconvert_exporter": "python",
   "pygments_lexer": "ipython3",
   "version": "3.10.0"
  },
  "orig_nbformat": 4
 },
 "nbformat": 4,
 "nbformat_minor": 2
}
